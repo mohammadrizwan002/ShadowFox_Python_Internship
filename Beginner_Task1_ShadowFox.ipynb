{
  "nbformat": 4,
  "nbformat_minor": 0,
  "metadata": {
    "colab": {
      "provenance": []
    },
    "kernelspec": {
      "name": "python3",
      "display_name": "Python 3"
    },
    "language_info": {
      "name": "python"
    }
  },
  "cells": [
    {
      "cell_type": "markdown",
      "source": [
        "Avengers List Task - ShadowFox Python Internship\n"
      ],
      "metadata": {
        "id": "szarqZDOoI0C"
      }
    },
    {
      "cell_type": "code",
      "execution_count": 4,
      "metadata": {
        "colab": {
          "base_uri": "https://localhost:8080/"
        },
        "id": "zvQbdPhRm054",
        "outputId": "1b92b8ef-7895-4b5c-d233-5611f485dc04"
      },
      "outputs": [
        {
          "output_type": "stream",
          "name": "stdout",
          "text": [
            "Original Avengers team: ['Iron Man', 'Captain America', 'Thor', 'Hulk', 'Black Widow', 'Hawkeye']\n",
            "Total members in Avengers: 6\n",
            "After adding Spider-Man and Doctor Strange: ['Iron Man', 'Captain America', 'Thor', 'Hulk', 'Black Widow', 'Hawkeye', 'Spider-Man', 'Doctor Strange']\n",
            "After making Captain America the leader: ['Captain America', 'Iron Man', 'Thor', 'Hulk', 'Black Widow', 'Hawkeye', 'Spider-Man', 'Doctor Strange']\n",
            "After inserting Black Panther between Thor and Hulk: ['Captain America', 'Iron Man', 'Thor', 'Black Panther', 'Hulk', 'Black Widow', 'Hawkeye', 'Spider-Man', 'Doctor Strange']\n",
            "New Avengers lineup: ['Shang-Chi', 'Ms. Marvel', 'Kate Bishop', 'Moon Knight', 'Yelena Belova']\n",
            "Alphabetically sorted Avengers team: ['Kate Bishop', 'Moon Knight', 'Ms. Marvel', 'Shang-Chi', 'Yelena Belova']\n",
            "The new leader is: Kate Bishop\n"
          ]
        }
      ],
      "source": [
        "# Creating the initial Avengers team\n",
        "avengers = [\"Iron Man\", \"Captain America\", \"Thor\", \"Hulk\", \"Black Widow\", \"Hawkeye\"]\n",
        "print(\"Original Avengers team:\", avengers)\n",
        "\n",
        "# Count total members\n",
        "print(\"Total members in Avengers:\", len(avengers))\n",
        "\n",
        "# Adding new members - Spider-Man and Doctor Strange\n",
        "avengers.append(\"Spider-Man\")\n",
        "avengers.append(\"Doctor Strange\")\n",
        "print(\"After adding Spider-Man and Doctor Strange:\", avengers)\n",
        "\n",
        "# Making Captain America the leader (move to front)\n",
        "avengers.remove(\"Captain America\")\n",
        "avengers.insert(0, \"Captain America\")\n",
        "print(\"After making Captain America the leader:\", avengers)\n",
        "\n",
        "# Separate Thor and Hulk by inserting Black Panther\n",
        "try:\n",
        "    thor_index = avengers.index(\"Thor\")\n",
        "    avengers.insert(thor_index + 1, \"Black Panther\")\n",
        "except ValueError:\n",
        "    print(\"Could not find Thor in the list.\")\n",
        "print(\"After inserting Black Panther between Thor and Hulk:\", avengers)\n",
        "\n",
        "# Replacing the team with a new generation of heroes\n",
        "avengers = [\"Shang-Chi\", \"Ms. Marvel\", \"Kate Bishop\", \"Moon Knight\", \"Yelena Belova\"]\n",
        "print(\"New Avengers lineup:\", avengers)\n",
        "\n",
        "# Sorting alphabetically and announcing the new leader\n",
        "avengers.sort()\n",
        "print(\"Alphabetically sorted Avengers team:\", avengers)\n",
        "print(\"The new leader is:\", avengers[0])\n"
      ]
    }
  ]
}