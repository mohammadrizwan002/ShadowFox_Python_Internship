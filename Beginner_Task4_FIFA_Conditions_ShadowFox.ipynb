{
  "nbformat": 4,
  "nbformat_minor": 0,
  "metadata": {
    "colab": {
      "provenance": []
    },
    "kernelspec": {
      "name": "python3",
      "display_name": "Python 3"
    },
    "language_info": {
      "name": "python"
    }
  },
  "cells": [
    {
      "cell_type": "code",
      "execution_count": 10,
      "metadata": {
        "colab": {
          "base_uri": "https://localhost:8080/"
        },
        "id": "4uPEV5L6TuX3",
        "outputId": "1c6cc9fd-a86f-4126-c9eb-712cb18abea6"
      },
      "outputs": [
        {
          "output_type": "stream",
          "name": "stdout",
          "text": [
            "Enter your height in meters: 1.78\n",
            "Enter your weight in kilograms: 66\n",
            "Category: Normal\n",
            "Enter the football city name: Vijayawada\n",
            "Vijayawada belongs to ANDHRA PRADESH.\n",
            "Enter first football city: Mumbai\n",
            "Enter second football city: Hyderabad\n",
            "Both Mumbai and Hyderabad are from the Premier League.\n"
          ]
        }
      ],
      "source": [
        "# ShadowFox Internship - Beginner Task 4: Conditionals with FIFA Theme\n",
        "\n",
        "# BMI Category Checker (kept standard for health analysis)\n",
        "height_m = float(input(\"Enter your height in meters: \"))\n",
        "weight_kg = float(input(\"Enter your weight in kilograms: \"))\n",
        "bmi = weight_kg / (height_m ** 2)\n",
        "\n",
        "if bmi >= 30:\n",
        "    print(\"Category: Obesity\")\n",
        "elif bmi >= 25:\n",
        "    print(\"Category: Overweight\")\n",
        "elif bmi >= 18.5:\n",
        "    print(\"Category: Normal\")\n",
        "else:\n",
        "    print(\"Category: Underweight\")\n",
        "\n",
        "# Determine football league based on player's city (clubs)\n",
        "premier_league = [\"Mumbai\", \"Hyderabad\", \"Kolkata\", \"Bengaluru\"]\n",
        "Telugu_warriors = [\"Vijayawada\", \"Visakhapatnam\", \"Visakhapatnam\", \"Ongole\"]\n",
        "tamil_rockers = [\"Chennai\", \"Madhurai\", \"Salem\", \"Tiruchirapalli\"]\n",
        "\n",
        "city_name = input(\"Enter the football city name: \")\n",
        "\n",
        "if city_name in premier_league:\n",
        "    print(f\"{city_name} belongs to the Hindi Premier League.\")\n",
        "elif city_name in Telugu_warriors:\n",
        "    print(f\"{city_name} belongs to ANDHRA PRADESH.\")\n",
        "elif city_name in tamil_rockers:\n",
        "    print(f\"{city_name} belongs to TAMILNADU.\")\n",
        "else:\n",
        "    print(\"This city is not listed under major Indian leagues.\")\n",
        "\n",
        "#Compare two football cities to check if they are in the same league\n",
        "city_one = input(\"Enter first football city: \")\n",
        "city_two = input(\"Enter second football city: \")\n",
        "\n",
        "def find_league(city):\n",
        "    if city in premier_league:\n",
        "        return \"Premier League\"\n",
        "    elif city in Telugu_warriors:\n",
        "        return \"Telugu_warriors\"\n",
        "    elif city in tamil_rockers:\n",
        "        return \"tamil_rockers\"\n",
        "    else:\n",
        "        return None\n",
        "\n",
        "league_one = find_league(city_one)\n",
        "league_two = find_league(city_two)\n",
        "\n",
        "if league_one and league_two:\n",
        "    if league_one == league_two:\n",
        "        print(f\"Both {city_one} and {city_two} are from the {league_one}.\")\n",
        "    else:\n",
        "        print(f\"{city_one} is in {league_one}, but {city_two} is in {league_two}.\")\n",
        "else:\n",
        "    print(\"One or both cities do not belong to our defined leagues.\")\n"
      ]
    }
  ]
}