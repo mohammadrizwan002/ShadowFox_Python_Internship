{
  "nbformat": 4,
  "nbformat_minor": 0,
  "metadata": {
    "colab": {
      "provenance": []
    },
    "kernelspec": {
      "name": "python3",
      "display_name": "Python 3"
    },
    "language_info": {
      "name": "python"
    }
  },
  "cells": [
    {
      "cell_type": "markdown",
      "source": [
        "# ShadowFox Internship - Beginner Task 2 (Numbers and Calculations)"
      ],
      "metadata": {
        "id": "C9DJCDwmwciH"
      }
    },
    {
      "cell_type": "code",
      "execution_count": 2,
      "metadata": {
        "colab": {
          "base_uri": "https://localhost:8080/"
        },
        "id": "x5tmTQHFv2wl",
        "outputId": "933d605f-e336-4ddf-ea3a-64060c3b8358"
      },
      "outputs": [
        {
          "output_type": "stream",
          "name": "stdout",
          "text": [
            "Formatted output using 'o' for 145: 221\n",
            "Area of the pond (in sq meters): 22155\n",
            "Total water in pond (liters): 31018\n",
            "Speed in m/s (no decimals): 1\n"
          ]
        }
      ],
      "source": [
        "\n",
        "\n",
        "# Using format function to see number formatting behavior\n",
        "num1 = 145\n",
        "format_type = 'o'  # octal\n",
        "result = format(num1, format_type)\n",
        "print(\"Formatted output using 'o' for 145:\", result)\n",
        "\n",
        "# Area of a circular pond\n",
        "r = 84  # radius in meters\n",
        "pi_val = 3.14\n",
        "area = pi_val * r * r\n",
        "print(\"Area of the pond (in sq meters):\", int(area))\n",
        "\n",
        "# Bonus: Calculating total water\n",
        "# 1.4 liters per sq meter\n",
        "water_per_meter = 1.4\n",
        "total_liters = area * water_per_meter\n",
        "print(\"Total water in pond (liters):\", int(total_liters))\n",
        "\n",
        "# Calculate speed in meters per second\n",
        "# Distance = 490 meters, Time = 7 minutes\n",
        "dist = 490\n",
        "time_min = 7\n",
        "time_sec = time_min * 60\n",
        "speed = dist / time_sec\n",
        "print(\"Speed in m/s (no decimals):\", int(speed))\n"
      ]
    }
  ]
}