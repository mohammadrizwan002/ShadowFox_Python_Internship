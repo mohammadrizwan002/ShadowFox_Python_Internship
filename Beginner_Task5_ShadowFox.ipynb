{
  "nbformat": 4,
  "nbformat_minor": 0,
  "metadata": {
    "colab": {
      "provenance": []
    },
    "kernelspec": {
      "name": "python3",
      "display_name": "Python 3"
    },
    "language_info": {
      "name": "python"
    }
  },
  "cells": [
    {
      "cell_type": "markdown",
      "source": [
        "# ShadowFox Internship - Beginner Task 5: For Loops with Action Movie Theme"
      ],
      "metadata": {
        "id": "uMvF5Jc6tVzW"
      }
    },
    {
      "cell_type": "code",
      "execution_count": 2,
      "metadata": {
        "colab": {
          "base_uri": "https://localhost:8080/"
        },
        "id": "jv7KOL0KsxwY",
        "outputId": "4b4137c9-d469-4fa6-b0b6-3471399d7a0f"
      },
      "outputs": [
        {
          "output_type": "stream",
          "name": "stdout",
          "text": [
            "🎬 Hero Training Montage – Punch Practice\n",
            "Punch training outcomes: [5, 2, 1, 6, 4, 6, 3, 1, 4, 4, 1, 5, 2, 5, 1, 5, 3, 1, 1, 1, 4, 2, 6, 3, 4]\n",
            "Number of perfect hits (6s): 3\n",
            "Number of misses (1s): 7\n",
            "Back-to-back perfect punches: 0\n",
            "\n",
            "🏋️‍♂️ Action Drill – Jump Kick Routine\n",
            "Completed 10 jump kicks.\n",
            "Are you tired? (yes/y or no/n): y\n",
            "Do you want to skip the remaining sets? (yes/y or no/n): n\n",
            "Completed 20 jump kicks.\n",
            "Are you tired? (yes/y or no/n): y\n",
            "Do you want to skip the remaining sets? (yes/y or no/n): n\n",
            "Completed 30 jump kicks.\n",
            "Are you tired? (yes/y or no/n): y\n",
            "Do you want to skip the remaining sets? (yes/y or no/n): y\n",
            "You completed 30 kicks. You’re still a mass hero!\n"
          ]
        }
      ],
      "source": [
        "\n",
        "\n",
        "import random\n",
        "\n",
        "#Simulating hero's action fight practice (25 punches)\n",
        "print(\"🎬 Hero Training Montage – Punch Practice\")\n",
        "\n",
        "punch_results = []\n",
        "perfect_hits = 0\n",
        "misses = 0\n",
        "back_to_back_hits = 0\n",
        "last_punch = 0\n",
        "\n",
        "for i in range(25):\n",
        "    punch = random.randint(1, 6)  # 6 = perfect punch, 1 = miss\n",
        "    punch_results.append(punch)\n",
        "\n",
        "    if punch == 6:\n",
        "        perfect_hits += 1\n",
        "        if last_punch == 6:\n",
        "            back_to_back_hits += 1\n",
        "    if punch == 1:\n",
        "        misses += 1\n",
        "\n",
        "    last_punch = punch\n",
        "\n",
        "print(\"Punch training outcomes:\", punch_results)\n",
        "print(\"Number of perfect hits (6s):\", perfect_hits)\n",
        "print(\"Number of misses (1s):\", misses)\n",
        "print(\"Back-to-back perfect punches:\", back_to_back_hits)\n",
        "\n",
        "# Hero's endurance drill – Jump kicks (10 per round, up to 100)\n",
        "print(\"\\n🏋️‍♂️ Action Drill – Jump Kick Routine\")\n",
        "\n",
        "total_kicks = 0\n",
        "\n",
        "for round in range(10):\n",
        "    total_kicks += 10\n",
        "    print(f\"Completed {total_kicks} jump kicks.\")\n",
        "\n",
        "    tired = input(\"Are you tired? (yes/y or no/n): \").strip().lower()\n",
        "    if tired in [\"yes\", \"y\"]:\n",
        "        skip = input(\"Do you want to skip the remaining sets? (yes/y or no/n): \").strip().lower()\n",
        "        if skip in [\"yes\", \"y\"]:\n",
        "            print(f\"You completed {total_kicks} kicks. You’re still a mass hero!\")\n",
        "            break\n",
        "else:\n",
        "    print(\"🔥 Full power! You completed all 100 kicks. Get ready for the climax fight!\")\n",
        "\n"
      ]
    }
  ]
}