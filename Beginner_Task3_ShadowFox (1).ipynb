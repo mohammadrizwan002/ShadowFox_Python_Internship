{
  "nbformat": 4,
  "nbformat_minor": 0,
  "metadata": {
    "colab": {
      "provenance": []
    },
    "kernelspec": {
      "name": "python3",
      "display_name": "Python 3"
    },
    "language_info": {
      "name": "python"
    }
  },
  "cells": [
    {
      "cell_type": "code",
      "execution_count": 1,
      "metadata": {
        "colab": {
          "base_uri": "https://localhost:8080/"
        },
        "id": "CVCFBtixzFho",
        "outputId": "9ee620e7-6841-490d-c938-9e423a530fe6"
      },
      "outputs": [
        {
          "output_type": "stream",
          "name": "stdout",
          "text": [
            "Original Pokémon trainers team: ['Ash', 'Misty', 'Brock', 'May', 'Dawn', 'Iris']\n",
            "Total trainers in the team: 6\n",
            "After adding Serena and Clemont: ['Ash', 'Misty', 'Brock', 'May', 'Dawn', 'Iris', 'Serena', 'Clemont']\n",
            "After assigning Ash as the leader: ['Ash', 'Misty', 'Brock', 'May', 'Dawn', 'Iris', 'Serena', 'Clemont']\n",
            "After inserting Goh between May and Dawn: ['Ash', 'Misty', 'Brock', 'May', 'Goh', 'Dawn', 'Iris', 'Serena', 'Clemont']\n",
            "New Pokémon trainer team: ['Liko', 'Roy', 'Friede', 'Dot', 'Amethio']\n",
            "Sorted trainer team: ['Amethio', 'Dot', 'Friede', 'Liko', 'Roy']\n",
            "The new leader is: Amethio\n"
          ]
        }
      ],
      "source": [
        "\n",
        "\n",
        "# Initial team of Pokémon trainers\n",
        "trainers = [\"Ash\", \"Misty\", \"Brock\", \"May\", \"Dawn\", \"Iris\"]\n",
        "print(\"Original Pokémon trainers team:\", trainers)\n",
        "\n",
        "# Counting total trainers\n",
        "total_trainers = len(trainers)\n",
        "print(\"Total trainers in the team:\", total_trainers)\n",
        "\n",
        "# New trainers join the squad\n",
        "trainers.append(\"Serena\")\n",
        "trainers.append(\"Clemont\")\n",
        "print(\"After adding Serena and Clemont:\", trainers)\n",
        "\n",
        "# Making Ash the leader by placing him at the start\n",
        "trainers.remove(\"Ash\")\n",
        "trainers.insert(0, \"Ash\")\n",
        "print(\"After assigning Ash as the leader:\", trainers)\n",
        "\n",
        "# May and Dawn are often paired together, so inserting Goh between them\n",
        "try:\n",
        "    may_index = trainers.index(\"May\")\n",
        "    trainers.insert(may_index + 1, \"Goh\")\n",
        "    print(\"After inserting Goh between May and Dawn:\", trainers)\n",
        "except ValueError:\n",
        "    print(\"Trainer May not found in the list.\")\n",
        "\n",
        "# Replacing the old team with a new generation\n",
        "trainers = [\"Liko\", \"Roy\", \"Friede\", \"Dot\", \"Amethio\"]\n",
        "print(\"New Pokémon trainer team:\", trainers)\n",
        "\n",
        "# Sorting alphabetically and showing the new leader\n",
        "trainers.sort()\n",
        "print(\"Sorted trainer team:\", trainers)\n",
        "print(\"The new leader is:\", trainers[0])\n"
      ]
    }
  ]
}